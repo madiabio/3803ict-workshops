{
 "cells": [
  {
   "cell_type": "code",
   "execution_count": 2,
   "metadata": {},
   "outputs": [],
   "source": [
    "import pandas as pd\n",
    "import matplotlib.pyplot as plt\n",
    "import seaborn\n",
    "import re"
   ]
  },
  {
   "cell_type": "markdown",
   "metadata": {},
   "source": [
    "#### Import the data and get a high-level picture"
   ]
  },
  {
   "cell_type": "code",
   "execution_count": 3,
   "metadata": {},
   "outputs": [
    {
     "data": {
      "text/html": [
       "<div>\n",
       "<style scoped>\n",
       "    .dataframe tbody tr th:only-of-type {\n",
       "        vertical-align: middle;\n",
       "    }\n",
       "\n",
       "    .dataframe tbody tr th {\n",
       "        vertical-align: top;\n",
       "    }\n",
       "\n",
       "    .dataframe thead th {\n",
       "        text-align: right;\n",
       "    }\n",
       "</style>\n",
       "<table border=\"1\" class=\"dataframe\">\n",
       "  <thead>\n",
       "    <tr style=\"text-align: right;\">\n",
       "      <th></th>\n",
       "      <th>order_id</th>\n",
       "      <th>name</th>\n",
       "      <th>ordered_at</th>\n",
       "      <th>price</th>\n",
       "      <th>quantity</th>\n",
       "      <th>line_total</th>\n",
       "    </tr>\n",
       "  </thead>\n",
       "  <tbody>\n",
       "    <tr>\n",
       "      <th>0</th>\n",
       "      <td>10000</td>\n",
       "      <td>\"ICE CREAM\" Peanut Fudge</td>\n",
       "      <td>2018-01-01 11:30:00</td>\n",
       "      <td>$3.50</td>\n",
       "      <td>3</td>\n",
       "      <td>$10.50</td>\n",
       "    </tr>\n",
       "    <tr>\n",
       "      <th>1</th>\n",
       "      <td>10000</td>\n",
       "      <td>\"ICE CREAM\" Peanut Fudge</td>\n",
       "      <td>2018-01-01 11:30:00</td>\n",
       "      <td>$3.50</td>\n",
       "      <td>1</td>\n",
       "      <td>$3.50</td>\n",
       "    </tr>\n",
       "    <tr>\n",
       "      <th>2</th>\n",
       "      <td>10001</td>\n",
       "      <td>\"SORBET\" Raspberry</td>\n",
       "      <td>2018-01-01 12:14:54</td>\n",
       "      <td>$2.50</td>\n",
       "      <td>2</td>\n",
       "      <td>$5.00</td>\n",
       "    </tr>\n",
       "    <tr>\n",
       "      <th>3</th>\n",
       "      <td>10001</td>\n",
       "      <td>NaN</td>\n",
       "      <td>2018-01-01 12:14:54</td>\n",
       "      <td>$1.50</td>\n",
       "      <td>1</td>\n",
       "      <td>$1.50</td>\n",
       "    </tr>\n",
       "    <tr>\n",
       "      <th>4</th>\n",
       "      <td>10001</td>\n",
       "      <td>\"CONE\" Dipped Waffle Cone</td>\n",
       "      <td>2018-01-01 12:14:54</td>\n",
       "      <td>$3.50</td>\n",
       "      <td>1</td>\n",
       "      <td>$3.50</td>\n",
       "    </tr>\n",
       "  </tbody>\n",
       "</table>\n",
       "</div>"
      ],
      "text/plain": [
       "   order_id                       name           ordered_at  price  quantity  \\\n",
       "0     10000   \"ICE CREAM\" Peanut Fudge  2018-01-01 11:30:00  $3.50         3   \n",
       "1     10000   \"ICE CREAM\" Peanut Fudge  2018-01-01 11:30:00  $3.50         1   \n",
       "2     10001         \"SORBET\" Raspberry  2018-01-01 12:14:54  $2.50         2   \n",
       "3     10001                        NaN  2018-01-01 12:14:54  $1.50         1   \n",
       "4     10001  \"CONE\" Dipped Waffle Cone  2018-01-01 12:14:54  $3.50         1   \n",
       "\n",
       "  line_total  \n",
       "0     $10.50  \n",
       "1      $3.50  \n",
       "2      $5.00  \n",
       "3      $1.50  \n",
       "4      $3.50  "
      ]
     },
     "execution_count": 3,
     "metadata": {},
     "output_type": "execute_result"
    }
   ],
   "source": [
    "df = pd.read_csv('sales.csv')\n",
    "df.head()"
   ]
  },
  {
   "cell_type": "code",
   "execution_count": 4,
   "metadata": {},
   "outputs": [
    {
     "data": {
      "text/plain": [
       "(29922, 6)"
      ]
     },
     "execution_count": 4,
     "metadata": {},
     "output_type": "execute_result"
    }
   ],
   "source": [
    "df.shape"
   ]
  },
  {
   "cell_type": "code",
   "execution_count": 5,
   "metadata": {},
   "outputs": [
    {
     "data": {
      "text/plain": [
       "order_id       int64\n",
       "name          object\n",
       "ordered_at    object\n",
       "price         object\n",
       "quantity       int64\n",
       "line_total    object\n",
       "dtype: object"
      ]
     },
     "execution_count": 5,
     "metadata": {},
     "output_type": "execute_result"
    }
   ],
   "source": [
    "df.dtypes"
   ]
  },
  {
   "cell_type": "markdown",
   "metadata": {},
   "source": [
    "#### TODO: Fix column datatypes\n",
    "\n",
    "Change ordered_at to datetime\n",
    "\n",
    "Change price and line_total to float"
   ]
  },
  {
   "cell_type": "code",
   "execution_count": 6,
   "metadata": {},
   "outputs": [],
   "source": [
    "# TODO: Change ordered_at to datetime\n",
    "df[\"ordered_at\"] = pd.to_datetime(df[\"ordered_at\"])\n",
    "\n",
    "# TODO: Change price and line_total to float\n",
    "# f[[\"price\", \"line_total\"]] = df[[\"price\", \"line_total\"]].replace(\"[$]\", \"\",regex=True).astype(\"float\")\n",
    "for column in ['price', 'line_total']:\n",
    "    df[column] = df[column].apply(lambda x: float(x[1:]))\n"
   ]
  },
  {
   "cell_type": "code",
   "execution_count": 7,
   "metadata": {},
   "outputs": [
    {
     "data": {
      "text/plain": [
       "order_id               int64\n",
       "name                  object\n",
       "ordered_at    datetime64[ns]\n",
       "price                float64\n",
       "quantity               int64\n",
       "line_total           float64\n",
       "dtype: object"
      ]
     },
     "execution_count": 7,
     "metadata": {},
     "output_type": "execute_result"
    }
   ],
   "source": [
    "df.dtypes"
   ]
  },
  {
   "cell_type": "markdown",
   "metadata": {},
   "source": [
    "#### TODO: drop if duplicated or null"
   ]
  },
  {
   "cell_type": "code",
   "execution_count": 8,
   "metadata": {},
   "outputs": [
    {
     "data": {
      "text/plain": [
       "538"
      ]
     },
     "execution_count": 8,
     "metadata": {},
     "output_type": "execute_result"
    }
   ],
   "source": [
    "df[df.duplicated()].shape[0]"
   ]
  },
  {
   "cell_type": "code",
   "execution_count": 9,
   "metadata": {},
   "outputs": [
    {
     "data": {
      "text/plain": [
       "0"
      ]
     },
     "execution_count": 9,
     "metadata": {},
     "output_type": "execute_result"
    }
   ],
   "source": [
    "# dropping if duplicated then checking\n",
    "# TODO: use drop_duplicates() here\n",
    "df.drop_duplicates(inplace=True)\n",
    "df[df.duplicated()].shape[0]"
   ]
  },
  {
   "cell_type": "code",
   "execution_count": 10,
   "metadata": {},
   "outputs": [
    {
     "data": {
      "text/plain": [
       "order_id         0\n",
       "name          1481\n",
       "ordered_at       0\n",
       "price            0\n",
       "quantity         0\n",
       "line_total       0\n",
       "dtype: int64"
      ]
     },
     "execution_count": 10,
     "metadata": {},
     "output_type": "execute_result"
    }
   ],
   "source": [
    "df.isnull().sum()"
   ]
  },
  {
   "cell_type": "code",
   "execution_count": 11,
   "metadata": {},
   "outputs": [
    {
     "data": {
      "text/html": [
       "<div>\n",
       "<style scoped>\n",
       "    .dataframe tbody tr th:only-of-type {\n",
       "        vertical-align: middle;\n",
       "    }\n",
       "\n",
       "    .dataframe tbody tr th {\n",
       "        vertical-align: top;\n",
       "    }\n",
       "\n",
       "    .dataframe thead th {\n",
       "        text-align: right;\n",
       "    }\n",
       "</style>\n",
       "<table border=\"1\" class=\"dataframe\">\n",
       "  <thead>\n",
       "    <tr style=\"text-align: right;\">\n",
       "      <th></th>\n",
       "      <th>order_id</th>\n",
       "      <th>name</th>\n",
       "      <th>ordered_at</th>\n",
       "      <th>price</th>\n",
       "      <th>quantity</th>\n",
       "      <th>line_total</th>\n",
       "    </tr>\n",
       "  </thead>\n",
       "  <tbody>\n",
       "    <tr>\n",
       "      <th>3</th>\n",
       "      <td>10001</td>\n",
       "      <td>NaN</td>\n",
       "      <td>2018-01-01 12:14:54</td>\n",
       "      <td>1.5</td>\n",
       "      <td>1</td>\n",
       "      <td>1.5</td>\n",
       "    </tr>\n",
       "    <tr>\n",
       "      <th>6</th>\n",
       "      <td>10002</td>\n",
       "      <td>NaN</td>\n",
       "      <td>2018-01-01 12:23:09</td>\n",
       "      <td>3.0</td>\n",
       "      <td>3</td>\n",
       "      <td>9.0</td>\n",
       "    </tr>\n",
       "    <tr>\n",
       "      <th>27</th>\n",
       "      <td>10007</td>\n",
       "      <td>NaN</td>\n",
       "      <td>2018-01-01 15:03:17</td>\n",
       "      <td>2.5</td>\n",
       "      <td>1</td>\n",
       "      <td>2.5</td>\n",
       "    </tr>\n",
       "    <tr>\n",
       "      <th>77</th>\n",
       "      <td>10026</td>\n",
       "      <td>NaN</td>\n",
       "      <td>2018-01-02 03:25:40</td>\n",
       "      <td>0.5</td>\n",
       "      <td>2</td>\n",
       "      <td>1.0</td>\n",
       "    </tr>\n",
       "    <tr>\n",
       "      <th>88</th>\n",
       "      <td>10031</td>\n",
       "      <td>NaN</td>\n",
       "      <td>2018-01-02 05:45:48</td>\n",
       "      <td>3.5</td>\n",
       "      <td>3</td>\n",
       "      <td>10.5</td>\n",
       "    </tr>\n",
       "  </tbody>\n",
       "</table>\n",
       "</div>"
      ],
      "text/plain": [
       "    order_id name          ordered_at  price  quantity  line_total\n",
       "3      10001  NaN 2018-01-01 12:14:54    1.5         1         1.5\n",
       "6      10002  NaN 2018-01-01 12:23:09    3.0         3         9.0\n",
       "27     10007  NaN 2018-01-01 15:03:17    2.5         1         2.5\n",
       "77     10026  NaN 2018-01-02 03:25:40    0.5         2         1.0\n",
       "88     10031  NaN 2018-01-02 05:45:48    3.5         3        10.5"
      ]
     },
     "execution_count": 11,
     "metadata": {},
     "output_type": "execute_result"
    }
   ],
   "source": [
    "df[df['name'].isnull()].head()"
   ]
  },
  {
   "cell_type": "code",
   "execution_count": 12,
   "metadata": {},
   "outputs": [
    {
     "data": {
      "text/plain": [
       "order_id      0\n",
       "name          0\n",
       "ordered_at    0\n",
       "price         0\n",
       "quantity      0\n",
       "line_total    0\n",
       "dtype: int64"
      ]
     },
     "execution_count": 12,
     "metadata": {},
     "output_type": "execute_result"
    }
   ],
   "source": [
    "# dropping if null then checking\n",
    "# TODO: use drop.na() here, remember to do it \"in place\"\n",
    "df.dropna(inplace=True)\n",
    "df.isnull().sum()"
   ]
  },
  {
   "cell_type": "markdown",
   "metadata": {},
   "source": [
    "#### Sanity check for value ranges and to check assumptions"
   ]
  },
  {
   "cell_type": "code",
   "execution_count": 13,
   "metadata": {},
   "outputs": [
    {
     "data": {
      "text/plain": [
       "28"
      ]
     },
     "execution_count": 13,
     "metadata": {},
     "output_type": "execute_result"
    }
   ],
   "source": [
    "df[(df['price'] * df['quantity']) != df['line_total']].shape[0]"
   ]
  },
  {
   "cell_type": "code",
   "execution_count": 14,
   "metadata": {},
   "outputs": [
    {
     "data": {
      "text/plain": [
       "279"
      ]
     },
     "execution_count": 14,
     "metadata": {},
     "output_type": "execute_result"
    }
   ],
   "source": [
    "df[df['line_total'] < 0].shape[0]"
   ]
  },
  {
   "cell_type": "markdown",
   "metadata": {},
   "source": [
    "#### TODO\n",
    "1. Get rows with **line_total = price * quantity**\n",
    "\n",
    "2. Then remove if line total < 0"
   ]
  },
  {
   "cell_type": "code",
   "execution_count": 15,
   "metadata": {},
   "outputs": [],
   "source": [
    "# TODO: Set line_total = price * quantity.\n",
    "df = df[(df['price'] * df['quantity'] == df['line_total'])]"
   ]
  },
  {
   "cell_type": "code",
   "execution_count": 16,
   "metadata": {},
   "outputs": [],
   "source": [
    "# TODO Then remove if line total < 0\n",
    "df = df[df['line_total'] >= 0]"
   ]
  },
  {
   "cell_type": "code",
   "execution_count": 17,
   "metadata": {},
   "outputs": [
    {
     "data": {
      "text/html": [
       "<div>\n",
       "<style scoped>\n",
       "    .dataframe tbody tr th:only-of-type {\n",
       "        vertical-align: middle;\n",
       "    }\n",
       "\n",
       "    .dataframe tbody tr th {\n",
       "        vertical-align: top;\n",
       "    }\n",
       "\n",
       "    .dataframe thead th {\n",
       "        text-align: right;\n",
       "    }\n",
       "</style>\n",
       "<table border=\"1\" class=\"dataframe\">\n",
       "  <thead>\n",
       "    <tr style=\"text-align: right;\">\n",
       "      <th></th>\n",
       "      <th>order_id</th>\n",
       "      <th>price</th>\n",
       "      <th>quantity</th>\n",
       "      <th>line_total</th>\n",
       "    </tr>\n",
       "  </thead>\n",
       "  <tbody>\n",
       "    <tr>\n",
       "      <th>count</th>\n",
       "      <td>27596.000000</td>\n",
       "      <td>27596.000000</td>\n",
       "      <td>27596.000000</td>\n",
       "      <td>27596.000000</td>\n",
       "    </tr>\n",
       "    <tr>\n",
       "      <th>mean</th>\n",
       "      <td>14993.365995</td>\n",
       "      <td>2.511596</td>\n",
       "      <td>2.000833</td>\n",
       "      <td>5.028845</td>\n",
       "    </tr>\n",
       "    <tr>\n",
       "      <th>std</th>\n",
       "      <td>2888.622150</td>\n",
       "      <td>1.059402</td>\n",
       "      <td>0.819472</td>\n",
       "      <td>3.085841</td>\n",
       "    </tr>\n",
       "    <tr>\n",
       "      <th>min</th>\n",
       "      <td>10000.000000</td>\n",
       "      <td>0.500000</td>\n",
       "      <td>1.000000</td>\n",
       "      <td>0.500000</td>\n",
       "    </tr>\n",
       "    <tr>\n",
       "      <th>25%</th>\n",
       "      <td>12499.000000</td>\n",
       "      <td>1.500000</td>\n",
       "      <td>1.000000</td>\n",
       "      <td>2.500000</td>\n",
       "    </tr>\n",
       "    <tr>\n",
       "      <th>50%</th>\n",
       "      <td>14972.500000</td>\n",
       "      <td>2.500000</td>\n",
       "      <td>2.000000</td>\n",
       "      <td>4.500000</td>\n",
       "    </tr>\n",
       "    <tr>\n",
       "      <th>75%</th>\n",
       "      <td>17506.250000</td>\n",
       "      <td>3.500000</td>\n",
       "      <td>3.000000</td>\n",
       "      <td>7.500000</td>\n",
       "    </tr>\n",
       "    <tr>\n",
       "      <th>max</th>\n",
       "      <td>19999.000000</td>\n",
       "      <td>4.000000</td>\n",
       "      <td>3.000000</td>\n",
       "      <td>12.000000</td>\n",
       "    </tr>\n",
       "  </tbody>\n",
       "</table>\n",
       "</div>"
      ],
      "text/plain": [
       "           order_id         price      quantity    line_total\n",
       "count  27596.000000  27596.000000  27596.000000  27596.000000\n",
       "mean   14993.365995      2.511596      2.000833      5.028845\n",
       "std     2888.622150      1.059402      0.819472      3.085841\n",
       "min    10000.000000      0.500000      1.000000      0.500000\n",
       "25%    12499.000000      1.500000      1.000000      2.500000\n",
       "50%    14972.500000      2.500000      2.000000      4.500000\n",
       "75%    17506.250000      3.500000      3.000000      7.500000\n",
       "max    19999.000000      4.000000      3.000000     12.000000"
      ]
     },
     "execution_count": 17,
     "metadata": {},
     "output_type": "execute_result"
    }
   ],
   "source": [
    "df.describe()"
   ]
  },
  {
   "cell_type": "markdown",
   "metadata": {},
   "source": [
    "#### TODO: Get value between \"\" in name and put it in category column"
   ]
  },
  {
   "cell_type": "code",
   "execution_count": 18,
   "metadata": {},
   "outputs": [],
   "source": [
    "# TODO\n",
    "pattern = r'^\"([A-Z ]+)\" (.*)'\n",
    "transform_func = lambda x: re.findall(pattern, x)[0]\n",
    "\n",
    "\n",
    "df[['category', 'name']] = df['name'] \\\n",
    "    .apply(transform_func) \\\n",
    "    .apply(pd.Series)\n"
   ]
  },
  {
   "cell_type": "code",
   "execution_count": 19,
   "metadata": {},
   "outputs": [
    {
     "data": {
      "text/html": [
       "<div>\n",
       "<style scoped>\n",
       "    .dataframe tbody tr th:only-of-type {\n",
       "        vertical-align: middle;\n",
       "    }\n",
       "\n",
       "    .dataframe tbody tr th {\n",
       "        vertical-align: top;\n",
       "    }\n",
       "\n",
       "    .dataframe thead th {\n",
       "        text-align: right;\n",
       "    }\n",
       "</style>\n",
       "<table border=\"1\" class=\"dataframe\">\n",
       "  <thead>\n",
       "    <tr style=\"text-align: right;\">\n",
       "      <th></th>\n",
       "      <th>order_id</th>\n",
       "      <th>name</th>\n",
       "      <th>ordered_at</th>\n",
       "      <th>price</th>\n",
       "      <th>quantity</th>\n",
       "      <th>line_total</th>\n",
       "      <th>category</th>\n",
       "    </tr>\n",
       "  </thead>\n",
       "  <tbody>\n",
       "    <tr>\n",
       "      <th>0</th>\n",
       "      <td>10000</td>\n",
       "      <td>Peanut Fudge</td>\n",
       "      <td>2018-01-01 11:30:00</td>\n",
       "      <td>3.5</td>\n",
       "      <td>3</td>\n",
       "      <td>10.5</td>\n",
       "      <td>ICE CREAM</td>\n",
       "    </tr>\n",
       "    <tr>\n",
       "      <th>1</th>\n",
       "      <td>10000</td>\n",
       "      <td>Peanut Fudge</td>\n",
       "      <td>2018-01-01 11:30:00</td>\n",
       "      <td>3.5</td>\n",
       "      <td>1</td>\n",
       "      <td>3.5</td>\n",
       "      <td>ICE CREAM</td>\n",
       "    </tr>\n",
       "    <tr>\n",
       "      <th>2</th>\n",
       "      <td>10001</td>\n",
       "      <td>Raspberry</td>\n",
       "      <td>2018-01-01 12:14:54</td>\n",
       "      <td>2.5</td>\n",
       "      <td>2</td>\n",
       "      <td>5.0</td>\n",
       "      <td>SORBET</td>\n",
       "    </tr>\n",
       "    <tr>\n",
       "      <th>4</th>\n",
       "      <td>10001</td>\n",
       "      <td>Dipped Waffle Cone</td>\n",
       "      <td>2018-01-01 12:14:54</td>\n",
       "      <td>3.5</td>\n",
       "      <td>1</td>\n",
       "      <td>3.5</td>\n",
       "      <td>CONE</td>\n",
       "    </tr>\n",
       "    <tr>\n",
       "      <th>5</th>\n",
       "      <td>10002</td>\n",
       "      <td>Lychee</td>\n",
       "      <td>2018-01-01 12:23:09</td>\n",
       "      <td>3.0</td>\n",
       "      <td>1</td>\n",
       "      <td>3.0</td>\n",
       "      <td>SORBET</td>\n",
       "    </tr>\n",
       "  </tbody>\n",
       "</table>\n",
       "</div>"
      ],
      "text/plain": [
       "   order_id                name          ordered_at  price  quantity  \\\n",
       "0     10000        Peanut Fudge 2018-01-01 11:30:00    3.5         3   \n",
       "1     10000        Peanut Fudge 2018-01-01 11:30:00    3.5         1   \n",
       "2     10001           Raspberry 2018-01-01 12:14:54    2.5         2   \n",
       "4     10001  Dipped Waffle Cone 2018-01-01 12:14:54    3.5         1   \n",
       "5     10002              Lychee 2018-01-01 12:23:09    3.0         1   \n",
       "\n",
       "   line_total   category  \n",
       "0        10.5  ICE CREAM  \n",
       "1         3.5  ICE CREAM  \n",
       "2         5.0     SORBET  \n",
       "4         3.5       CONE  \n",
       "5         3.0     SORBET  "
      ]
     },
     "execution_count": 19,
     "metadata": {},
     "output_type": "execute_result"
    }
   ],
   "source": [
    "df.head()"
   ]
  },
  {
   "cell_type": "markdown",
   "metadata": {},
   "source": [
    "#### Analysis, finally!"
   ]
  },
  {
   "cell_type": "code",
   "execution_count": 51,
   "metadata": {},
   "outputs": [
    {
     "data": {
      "image/png": "[encoded data removed]",
      "text/plain": [
       "<Figure size 1000x600 with 1 Axes>"
      ]
     },
     "metadata": {},
     "output_type": "display_data"
    }
   ],
   "source": [
    "f, ax = plt.subplots(figsize=(10, 6))\n",
    "df.groupby('name')['line_total'].sum().sort_values(ascending=False).head(10).plot(kind='bar')\n",
    "f.autofmt_xdate()\n",
    "plt.show()"
   ]
  }
 ],
 "metadata": {
  "kernelspec": {
   "display_name": "Python 3 (ipykernel)",
   "language": "python",
   "name": "python3"
  },
  "language_info": {
   "codemirror_mode": {
    "name": "ipython",
    "version": 3
   },
   "file_extension": ".py",
   "mimetype": "text/x-python",
   "name": "python",
   "nbconvert_exporter": "python",
   "pygments_lexer": "ipython3",
   "version": "3.11.3"
  }
 },
 "nbformat": 4,
 "nbformat_minor": 2
}
